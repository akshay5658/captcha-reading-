{
 "cells": [
  {
   "cell_type": "code",
   "execution_count": 13,
   "metadata": {
    "scrolled": true
   },
   "outputs": [
    {
     "name": "stdout",
     "output_type": "stream",
     "text": [
      "Collecting streamlit\n",
      "  Downloading streamlit-1.12.2-py2.py3-none-any.whl (9.1 MB)\n",
      "Requirement already satisfied: pandas>=0.21.0 in d:\\softwares\\anaconda\\lib\\site-packages (from streamlit) (1.0.5)\n",
      "Collecting validators>=0.2\n",
      "  Downloading validators-0.20.0.tar.gz (30 kB)\n",
      "Requirement already satisfied: python-dateutil in d:\\softwares\\anaconda\\lib\\site-packages (from streamlit) (2.8.1)\n",
      "Requirement already satisfied: protobuf<4,>=3.12 in d:\\softwares\\anaconda\\lib\\site-packages (from streamlit) (3.19.4)\n",
      "Requirement already satisfied: click>=7.0 in d:\\softwares\\anaconda\\lib\\site-packages (from streamlit) (7.1.2)\n",
      "Collecting blinker>=1.0.0\n",
      "  Downloading blinker-1.5-py2.py3-none-any.whl (12 kB)\n",
      "Collecting pympler>=0.9\n",
      "  Downloading Pympler-1.0.1-py3-none-any.whl (164 kB)\n",
      "Collecting typing-extensions>=3.10.0.0\n",
      "  Downloading typing_extensions-4.3.0-py3-none-any.whl (25 kB)\n",
      "Collecting gitpython!=3.1.19\n",
      "  Using cached GitPython-3.1.27-py3-none-any.whl (181 kB)\n",
      "Requirement already satisfied: watchdog; platform_system != \"Darwin\" in d:\\softwares\\anaconda\\lib\\site-packages (from streamlit) (0.10.3)\n",
      "Collecting pyarrow>=4.0\n",
      "  Downloading pyarrow-9.0.0-cp38-cp38-win_amd64.whl (19.6 MB)\n",
      "Requirement already satisfied: numpy in d:\\softwares\\anaconda\\lib\\site-packages (from streamlit) (1.23.2)\n",
      "Requirement already satisfied: toml in d:\\softwares\\anaconda\\lib\\site-packages (from streamlit) (0.10.1)\n",
      "Collecting rich>=10.11.0\n",
      "  Downloading rich-12.5.1-py3-none-any.whl (235 kB)\n",
      "Requirement already satisfied: tornado>=5.0 in d:\\softwares\\anaconda\\lib\\site-packages (from streamlit) (6.0.4)\n",
      "Requirement already satisfied: pillow>=6.2.0 in d:\\softwares\\anaconda\\lib\\site-packages (from streamlit) (8.0.1)\n",
      "Collecting pydeck>=0.1.dev5\n",
      "  Downloading pydeck-0.8.0b1-py2.py3-none-any.whl (4.7 MB)\n",
      "Collecting semver\n",
      "  Downloading semver-2.13.0-py2.py3-none-any.whl (12 kB)\n",
      "Requirement already satisfied: importlib-metadata>=1.4 in d:\\softwares\\anaconda\\lib\\site-packages (from streamlit) (2.0.0)\n",
      "Requirement already satisfied: packaging>=14.1 in d:\\softwares\\anaconda\\lib\\site-packages (from streamlit) (20.4)\n",
      "Collecting tzlocal>=1.1\n",
      "  Downloading tzlocal-4.2-py3-none-any.whl (19 kB)\n",
      "Requirement already satisfied: requests>=2.4 in d:\\softwares\\anaconda\\lib\\site-packages (from streamlit) (2.24.0)\n",
      "Requirement already satisfied: cachetools>=4.0 in d:\\softwares\\anaconda\\lib\\site-packages (from streamlit) (5.2.0)\n",
      "Collecting altair>=3.2.0\n",
      "  Downloading altair-4.2.0-py3-none-any.whl (812 kB)\n",
      "Requirement already satisfied: pytz>=2017.2 in d:\\softwares\\anaconda\\lib\\site-packages (from pandas>=0.21.0->streamlit) (2020.1)\n",
      "Requirement already satisfied: decorator>=3.4.0 in d:\\softwares\\anaconda\\lib\\site-packages (from validators>=0.2->streamlit) (4.4.2)\n",
      "Requirement already satisfied: six>=1.5 in d:\\softwares\\anaconda\\lib\\site-packages (from python-dateutil->streamlit) (1.15.0)\n",
      "Collecting gitdb<5,>=4.0.1\n",
      "  Using cached gitdb-4.0.9-py3-none-any.whl (63 kB)\n",
      "Requirement already satisfied: pathtools>=0.1.1 in d:\\softwares\\anaconda\\lib\\site-packages (from watchdog; platform_system != \"Darwin\"->streamlit) (0.1.2)\n",
      "Requirement already satisfied: pygments<3.0.0,>=2.6.0 in d:\\softwares\\anaconda\\lib\\site-packages (from rich>=10.11.0->streamlit) (2.7.2)\n",
      "Collecting commonmark<0.10.0,>=0.9.0\n",
      "  Downloading commonmark-0.9.1-py2.py3-none-any.whl (51 kB)\n",
      "Requirement already satisfied: jinja2>=2.10.1 in d:\\softwares\\anaconda\\lib\\site-packages (from pydeck>=0.1.dev5->streamlit) (2.11.2)\n",
      "Requirement already satisfied: zipp>=0.5 in d:\\softwares\\anaconda\\lib\\site-packages (from importlib-metadata>=1.4->streamlit) (3.4.0)\n",
      "Requirement already satisfied: pyparsing>=2.0.2 in d:\\softwares\\anaconda\\lib\\site-packages (from packaging>=14.1->streamlit) (2.4.7)\n",
      "Collecting pytz-deprecation-shim\n",
      "  Downloading pytz_deprecation_shim-0.1.0.post0-py2.py3-none-any.whl (15 kB)\n",
      "Collecting tzdata; platform_system == \"Windows\"\n",
      "  Downloading tzdata-2022.2-py2.py3-none-any.whl (336 kB)\n",
      "Collecting backports.zoneinfo; python_version < \"3.9\"\n",
      "  Downloading backports.zoneinfo-0.2.1-cp38-cp38-win_amd64.whl (38 kB)\n",
      "Requirement already satisfied: idna<3,>=2.5 in d:\\softwares\\anaconda\\lib\\site-packages (from requests>=2.4->streamlit) (2.10)\n",
      "Requirement already satisfied: certifi>=2017.4.17 in d:\\softwares\\anaconda\\lib\\site-packages (from requests>=2.4->streamlit) (2020.6.20)\n",
      "Requirement already satisfied: urllib3!=1.25.0,!=1.25.1,<1.26,>=1.21.1 in d:\\softwares\\anaconda\\lib\\site-packages (from requests>=2.4->streamlit) (1.25.11)\n",
      "Requirement already satisfied: chardet<4,>=3.0.2 in d:\\softwares\\anaconda\\lib\\site-packages (from requests>=2.4->streamlit) (3.0.4)\n",
      "Requirement already satisfied: entrypoints in d:\\softwares\\anaconda\\lib\\site-packages (from altair>=3.2.0->streamlit) (0.3)\n",
      "Requirement already satisfied: toolz in d:\\softwares\\anaconda\\lib\\site-packages (from altair>=3.2.0->streamlit) (0.11.1)\n",
      "Requirement already satisfied: jsonschema>=3.0 in d:\\softwares\\anaconda\\lib\\site-packages (from altair>=3.2.0->streamlit) (3.2.0)\n",
      "Collecting smmap<6,>=3.0.1\n",
      "  Using cached smmap-5.0.0-py3-none-any.whl (24 kB)\n",
      "Requirement already satisfied: MarkupSafe>=0.23 in d:\\softwares\\anaconda\\lib\\site-packages (from jinja2>=2.10.1->pydeck>=0.1.dev5->streamlit) (1.1.1)\n",
      "Requirement already satisfied: setuptools in d:\\softwares\\anaconda\\lib\\site-packages (from jsonschema>=3.0->altair>=3.2.0->streamlit) (50.3.1.post20201107)\n",
      "Requirement already satisfied: pyrsistent>=0.14.0 in d:\\softwares\\anaconda\\lib\\site-packages (from jsonschema>=3.0->altair>=3.2.0->streamlit) (0.17.3)\n",
      "Requirement already satisfied: attrs>=17.4.0 in d:\\softwares\\anaconda\\lib\\site-packages (from jsonschema>=3.0->altair>=3.2.0->streamlit) (20.3.0)\n",
      "Building wheels for collected packages: validators\n",
      "  Building wheel for validators (setup.py): started\n",
      "  Building wheel for validators (setup.py): finished with status 'done'\n",
      "  Created wheel for validators: filename=validators-0.20.0-py3-none-any.whl size=19572 sha256=46a12503a9eb6df2054fb4c7badb592a0edb3d74339d0f6d0764e1285f5e70d9\n",
      "  Stored in directory: c:\\users\\tejas\\appdata\\local\\pip\\cache\\wheels\\19\\09\\72\\3eb74d236bb48bd0f3c6c3c83e4e0c5bbfcbcad7c6c3539db8\n",
      "Successfully built validators\n",
      "Installing collected packages: validators, blinker, pympler, typing-extensions, smmap, gitdb, gitpython, pyarrow, commonmark, rich, pydeck, semver, backports.zoneinfo, tzdata, pytz-deprecation-shim, tzlocal, altair, streamlit\n",
      "  Attempting uninstall: typing-extensions\n",
      "    Found existing installation: typing-extensions 3.7.4.3\n",
      "    Uninstalling typing-extensions-3.7.4.3:\n",
      "      Successfully uninstalled typing-extensions-3.7.4.3\n",
      "Successfully installed altair-4.2.0 backports.zoneinfo-0.2.1 blinker-1.5 commonmark-0.9.1 gitdb-4.0.9 gitpython-3.1.27 pyarrow-9.0.0 pydeck-0.8.0b1 pympler-1.0.1 pytz-deprecation-shim-0.1.0.post0 rich-12.5.1 semver-2.13.0 smmap-5.0.0 streamlit-1.12.2 typing-extensions-4.3.0 tzdata-2022.2 tzlocal-4.2 validators-0.20.0\n"
     ]
    }
   ],
   "source": [
    "!pip install streamlit"
   ]
  },
  {
   "cell_type": "code",
   "execution_count": 1,
   "metadata": {},
   "outputs": [],
   "source": [
    "\n",
    "# #/html/body/form/div[3]"
   ]
  },
  {
   "cell_type": "code",
   "execution_count": 2,
   "metadata": {},
   "outputs": [],
   "source": [
    "from base64 import decodestring # type of data storage\n",
    "import pandas as pd\n",
    "import tempfile # storing croped images in a temp folder\n",
    "import time # time measure\n",
    "import glob # read n number of images simultaneuosly from folder\n",
    "from io import BytesIO \n",
    "import base64\n",
    "import io\n",
    "import cv2 # module for computer vision (preprocessing or analysing the images)\n",
    "import os \n",
    "import numpy as np\n",
    "import imutils # library for preprocessing\n",
    "import sys \n",
    "from PIL import Image # to display images or read images\n",
    "from sklearn.preprocessing import LabelEncoder\n",
    "from tensorflow.keras.models import load_model\n",
    "import warnings\n",
    "warnings.filterwarnings('ignore', category=DeprecationWarning)\n",
    "warnings.filterwarnings('ignore', category=FutureWarning)"
   ]
  },
  {
   "cell_type": "code",
   "execution_count": 3,
   "metadata": {},
   "outputs": [],
   "source": [
    "# gives contour and bounding boxes of each images ( contour -> gives area of similarity in an image)\n",
    "def sort_contours(cnts, method=\"left-to-right\"):\n",
    "\t# initialize the reverse flag and sort index\n",
    "\treverse = False\n",
    "\ti = 0\n",
    "\t# handle if we need to sort in reverse\n",
    "\tif method == \"right-to-left\" or method == \"bottom-to-top\":\n",
    "\t\treverse = True\n",
    "\t# handle if we are sorting against the y-coordinate rather than\n",
    "\t# the x-coordinate of the bounding box\n",
    "\tif method == \"top-to-bottom\" or method == \"bottom-to-top\":\n",
    "\t\ti = 1\n",
    "\t# construct the list of bounding boxes and sort them from top to\n",
    "\t# bottom\n",
    "\tboundingBoxes = [cv2.boundingRect(c) for c in cnts] # box of images cropped( value of bounding box is value of 4 coordinates of cropped images) \n",
    "\t(cnts, boundingBoxes) = zip(*sorted(zip(cnts, boundingBoxes),\n",
    "\t\tkey=lambda b:b[1][i], reverse=reverse)) #Key value pairs\n",
    "\t# return the list of sorted contours and bounding boxes\n",
    "\treturn (cnts, boundingBoxes)"
   ]
  },
  {
   "cell_type": "code",
   "execution_count": 4,
   "metadata": {},
   "outputs": [],
   "source": [
    "letters = [\"0\",\"1\",\"2\",\"3\",\"4\",\"5\",\"6\",\"7\",\"8\",\"9\",\"A\",\"B\",\"C\",\"D\",\"E\",\"F\",\"G\",\"H\",\"J\",\"K\",\"L\",\"M\",\"N\",\"P\",\"Q\",\"R\",\"S\",\"T\",\"U\",\"V\",\"W\",\"X\",\"Y\",\"Z\"]"
   ]
  },
  {
   "cell_type": "code",
   "execution_count": 5,
   "metadata": {},
   "outputs": [],
   "source": [
    "le = LabelEncoder()\n",
    "z=le.fit_transform(letters)"
   ]
  },
  {
   "cell_type": "code",
   "execution_count": 8,
   "metadata": {},
   "outputs": [],
   "source": [
    "# data = pd.read_csv(\"E:\\\\Captcha_files\\\\output\\\\#e.csv\")"
   ]
  },
  {
   "cell_type": "code",
   "execution_count": 6,
   "metadata": {},
   "outputs": [],
   "source": [
    "img_cv = cv2.imread(\"data\\\\predict\\\\944.jpg\") # reading individual images"
   ]
  },
  {
   "cell_type": "code",
   "execution_count": 7,
   "metadata": {},
   "outputs": [
    {
     "name": "stdout",
     "output_type": "stream",
     "text": [
      "(35, 100)\n",
      "(35, 100, 3)\n",
      "(35, 100)\n",
      "(10, 15, 3)\n",
      "(10, 15, 3)\n",
      "(10, 15, 3)\n",
      "(10, 15, 3)\n",
      "(10, 15, 3)\n",
      "(10, 15, 3)\n",
      "(6, 10, 15, 3)\n"
     ]
    }
   ],
   "source": [
    "\n",
    "#############################################################################\n",
    "# converting to black and white images \n",
    "hsv = cv2.cvtColor(img_cv, cv2.COLOR_BGR2HSV)\n",
    "lower_white = np.array([0, 0, 212], dtype=np.uint8)\n",
    "upper_white = np.array([131, 255, 255], dtype=np.uint8)\n",
    "mask = cv2.inRange(hsv, lower_white, upper_white)\n",
    "kernel = np.ones((1,1),np.uint8)\n",
    "img_e = cv2.erode(mask,kernel,iterations=2)\n",
    "img_e=255-img_e\n",
    "Capatcha_dir_1 = tempfile.mkdtemp()\n",
    "cv2.imwrite(Capatcha_dir_1+\"ba.jpg\",img_e)\n",
    "print(img_e.shape)\n",
    "####################################################################\n",
    "# croping to each letters and finally stored in to_model(variable)\n",
    "img = cv2.imread(Capatcha_dir_1+\"ba.jpg\")\n",
    "print(img.shape)\n",
    "rgb = cv2.cvtColor(img,cv2.COLOR_HSV2RGB)\n",
    "black = cv2.cvtColor(rgb,cv2.COLOR_RGB2GRAY)\n",
    "print(black.shape)\n",
    "kernel = np.ones((1,1), np.uint8)\n",
    "dilate = cv2.erode(black,kernel,iterations = 1)\n",
    "erode = cv2.dilate(dilate,kernel,iterations = 2)\n",
    "ret,thresh = cv2.threshold(erode,1,255,cv2.THRESH_BINARY_INV)\n",
    "img_dilation = cv2.erode(thresh,kernel,iterations = 2)\n",
    "ctrs = cv2.findContours(img_dilation.copy(), cv2.RETR_EXTERNAL, cv2.CHAIN_APPROX_SIMPLE)\n",
    "cnts = imutils.grab_contours(ctrs)\n",
    "cnts = sorted(cnts, key = cv2.contourArea, reverse = False)[:10]\n",
    "(cnts, boundingBoxes) = sort_contours(cnts, method=\"left-to-right\")\n",
    "roi_images = []\n",
    "for i, ctr in enumerate(cnts):\n",
    "    # Get bounding box\n",
    "    x, y, w, h = cv2.boundingRect(ctr)\n",
    "#     print(x,y,w,h)\n",
    "    if w>= 6 and h>=9 and w<=20: # condition of height and width of the image\n",
    "\n",
    "        # Getting ROI (Region of Interest)\n",
    "        roi = img[y:y+h, x:x+w]\n",
    "#         roi =cv2.cvtColor(roi,cv2.COLOR_RGB2GRAY)\n",
    "        \n",
    "        roi = cv2.resize(roi,(15,10))\n",
    "#         roi = roi/255\n",
    "#         roi =cv2.cvtColor(roi,cv2.COLOR_RGB2GRAY)\n",
    "#         roi.reshape(1,-1)\n",
    "#         roi = np.reshape(roi, (15,10,1))\n",
    "        print(roi.shape)\n",
    "        roi_images.append(roi)\n",
    "        cv2.imwrite(\"data\\\\abc\\\\\"+str(i)+\".jpg\",roi)\n",
    "\n",
    "to_model =   np.array(roi_images)\n",
    "# to_model = np.reshape(to_model,(6, 10, 15,1))\n",
    "\n",
    "print(to_model.shape)\n",
    "if to_model.shape[0] != 6:\n",
    "    sys.exit()\n"
   ]
  },
  {
   "cell_type": "code",
   "execution_count": 8,
   "metadata": {},
   "outputs": [],
   "source": [
    "from IPython.display import Image "
   ]
  },
  {
   "cell_type": "code",
   "execution_count": 17,
   "metadata": {},
   "outputs": [
    {
     "name": "stdout",
     "output_type": "stream",
     "text": [
      "1/1 [==============================] - 0s 175ms/step\n"
     ]
    },
    {
     "data": {
      "image/jpeg": "[encoded data removed]",
      "text/plain": [
       "<IPython.core.display.Image object>"
      ]
     },
     "metadata": {},
     "output_type": "display_data"
    },
    {
     "name": "stdout",
     "output_type": "stream",
     "text": [
      "5R4EU9\n"
     ]
    }
   ],
   "source": [
    "# to_model = extract()\n",
    "le = LabelEncoder()\n",
    "le.fit_transform(letters)\n",
    "model = load_model(\"data\\\\model2_10_15_3.h5\")\n",
    "pre = model.predict(to_model)\n",
    "classes=np.argmax(pre,axis=1)\n",
    "list_value = le.inverse_transform(classes)\n",
    "captcha_value = \"\".join(list_value)\n",
    "pil_img = Image(filename=\"data\\\\predict\\\\944.jpg\")\n",
    "display(pil_img)\n",
    "print(captcha_value) # printing captcha value"
   ]
  },
  {
   "cell_type": "code",
   "execution_count": 9,
   "metadata": {},
   "outputs": [
    {
     "data": {
      "text/plain": [
       "'2.3.1'"
      ]
     },
     "execution_count": 9,
     "metadata": {},
     "output_type": "execute_result"
    }
   ],
   "source": [
    "tf.__version__"
   ]
  },
  {
   "cell_type": "code",
   "execution_count": 22,
   "metadata": {},
   "outputs": [
    {
     "name": "stdout",
     "output_type": "stream",
     "text": [
      "^C\n"
     ]
    }
   ],
   "source": [
    "# To run app in web browser\n",
    "\n",
    "!streamlit run StreamlitApp.py"
   ]
  },
  {
   "cell_type": "code",
   "execution_count": null,
   "metadata": {},
   "outputs": [],
   "source": []
  }
 ],
 "metadata": {
  "kernelspec": {
   "display_name": "Python 3",
   "language": "python",
   "name": "python3"
  },
  "language_info": {
   "codemirror_mode": {
    "name": "ipython",
    "version": 3
   },
   "file_extension": ".py",
   "mimetype": "text/x-python",
   "name": "python",
   "nbconvert_exporter": "python",
   "pygments_lexer": "ipython3",
   "version": "3.8.5"
  }
 },
 "nbformat": 4,
 "nbformat_minor": 2
}
