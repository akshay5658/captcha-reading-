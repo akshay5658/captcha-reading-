{
 "cells": [
  {
   "cell_type": "code",
   "execution_count": 1,
   "metadata": {
    "colab": {},
    "colab_type": "code",
    "id": "rgkLHy3wM7Qm"
   },
   "outputs": [],
   "source": [
    "import keras\n",
    "# from tensorflow import keras\n",
    "from tensorflow.keras.models import Sequential\n",
    "from tensorflow.keras.layers import Dense,Flatten,Dropout,Conv2D,MaxPooling2D\n",
    "from tensorflow.keras.utils import to_categorical\n",
    "from tensorflow.keras.preprocessing import image\n",
    "import pandas as pd\n",
    "import numpy as np\n",
    "import matplotlib as plt\n",
    "from sklearn.model_selection import train_test_split\n",
    "from tqdm import tqdm\n",
    "import warnings\n",
    "warnings.filterwarnings('ignore')\n",
    "# from livelossplot.keras import PlotLossesCallback\n",
    "from sklearn.preprocessing import LabelEncoder\n"
   ]
  },
  {
   "cell_type": "code",
   "execution_count": 2,
   "metadata": {},
   "outputs": [],
   "source": [
    "# import tensorflow as tf\n",
    "# tf.compat.v1.get_default_graph()"
   ]
  },
  {
   "cell_type": "code",
   "execution_count": 2,
   "metadata": {
    "colab": {},
    "colab_type": "code",
    "id": "FJXWk53t7PSY"
   },
   "outputs": [],
   "source": [
    "le = LabelEncoder()"
   ]
  },
  {
   "cell_type": "code",
   "execution_count": 4,
   "metadata": {
    "colab": {},
    "colab_type": "code",
    "id": "2C0An7OVM929"
   },
   "outputs": [],
   "source": [
    "train = pd.read_excel(\"data/Train.xlsx\") #to read the data from the file "
   ]
  },
  {
   "cell_type": "code",
   "execution_count": 5,
   "metadata": {
    "colab": {},
    "colab_type": "code",
    "id": "zsuum_b_Nruq"
   },
   "outputs": [],
   "source": [
    "train[\"image\"]=train[\"image\"].astype(str) #covert the data to string \n",
    "train[\"class\"]=train[\"class\"].astype(str)"
   ]
  },
  {
   "cell_type": "code",
   "execution_count": 6,
   "metadata": {
    "colab": {
     "base_uri": "https://localhost:8080/",
     "height": 424
    },
    "colab_type": "code",
    "id": "Mpbq-z3WSzes",
    "outputId": "d5550cea-0ffe-4d8f-e23a-2d38566b5a53"
   },
   "outputs": [
    {
     "data": {
      "text/html": [
       "<div>\n",
       "<style scoped>\n",
       "    .dataframe tbody tr th:only-of-type {\n",
       "        vertical-align: middle;\n",
       "    }\n",
       "\n",
       "    .dataframe tbody tr th {\n",
       "        vertical-align: top;\n",
       "    }\n",
       "\n",
       "    .dataframe thead th {\n",
       "        text-align: right;\n",
       "    }\n",
       "</style>\n",
       "<table border=\"1\" class=\"dataframe\">\n",
       "  <thead>\n",
       "    <tr style=\"text-align: right;\">\n",
       "      <th></th>\n",
       "      <th>image</th>\n",
       "      <th>class</th>\n",
       "    </tr>\n",
       "  </thead>\n",
       "  <tbody>\n",
       "    <tr>\n",
       "      <th>0</th>\n",
       "      <td>0</td>\n",
       "      <td>6</td>\n",
       "    </tr>\n",
       "    <tr>\n",
       "      <th>1</th>\n",
       "      <td>1</td>\n",
       "      <td>9</td>\n",
       "    </tr>\n",
       "    <tr>\n",
       "      <th>2</th>\n",
       "      <td>2</td>\n",
       "      <td>X</td>\n",
       "    </tr>\n",
       "    <tr>\n",
       "      <th>3</th>\n",
       "      <td>3</td>\n",
       "      <td>V</td>\n",
       "    </tr>\n",
       "    <tr>\n",
       "      <th>4</th>\n",
       "      <td>4</td>\n",
       "      <td>3</td>\n",
       "    </tr>\n",
       "    <tr>\n",
       "      <th>...</th>\n",
       "      <td>...</td>\n",
       "      <td>...</td>\n",
       "    </tr>\n",
       "    <tr>\n",
       "      <th>1104</th>\n",
       "      <td>1992</td>\n",
       "      <td>N</td>\n",
       "    </tr>\n",
       "    <tr>\n",
       "      <th>1105</th>\n",
       "      <td>1993</td>\n",
       "      <td>N</td>\n",
       "    </tr>\n",
       "    <tr>\n",
       "      <th>1106</th>\n",
       "      <td>1994</td>\n",
       "      <td>6</td>\n",
       "    </tr>\n",
       "    <tr>\n",
       "      <th>1107</th>\n",
       "      <td>1995</td>\n",
       "      <td>T</td>\n",
       "    </tr>\n",
       "    <tr>\n",
       "      <th>1108</th>\n",
       "      <td>2000</td>\n",
       "      <td>9</td>\n",
       "    </tr>\n",
       "  </tbody>\n",
       "</table>\n",
       "<p>1109 rows × 2 columns</p>\n",
       "</div>"
      ],
      "text/plain": [
       "     image class\n",
       "0        0     6\n",
       "1        1     9\n",
       "2        2     X\n",
       "3        3     V\n",
       "4        4     3\n",
       "...    ...   ...\n",
       "1104  1992     N\n",
       "1105  1993     N\n",
       "1106  1994     6\n",
       "1107  1995     T\n",
       "1108  2000     9\n",
       "\n",
       "[1109 rows x 2 columns]"
      ]
     },
     "execution_count": 6,
     "metadata": {},
     "output_type": "execute_result"
    }
   ],
   "source": [
    "train #display training data"
   ]
  },
  {
   "cell_type": "code",
   "execution_count": 8,
   "metadata": {
    "colab": {
     "base_uri": "https://localhost:8080/",
     "height": 1000
    },
    "colab_type": "code",
    "id": "qqtvkh2xN4er",
    "outputId": "04644200-92a0-4e11-814d-93019be151c7"
   },
   "outputs": [
    {
     "name": "stderr",
     "output_type": "stream",
     "text": [
      "100%|█████████████████████████████████████████████████████████████████████████████| 1109/1109 [00:09<00:00, 112.40it/s]\n"
     ]
    }
   ],
   "source": [
    "train_image = [] # reading images from trian folder and converting them into list of arrays\n",
    "for i in tqdm(range(train.shape[0])):\n",
    "    img = image.load_img(\"data/train/\"+train[\"image\"][i]+\".jpg\",target_size= (10,15,1),grayscale=True) #defining size of target as all the images should be of same size                    \n",
    "    img = image.img_to_array(img)\n",
    "    img = img/225                 # normalising the image\n",
    "    train_image.append(img)    #appending each image array into train_image "
   ]
  },
  {
   "cell_type": "code",
   "execution_count": 9,
   "metadata": {
    "colab": {},
    "colab_type": "code",
    "id": "6XQKbDS7OCLM"
   },
   "outputs": [],
   "source": [
    "val = pd.read_excel(\"data/Val.xlsx\") #loading validation or test data"
   ]
  },
  {
   "cell_type": "code",
   "execution_count": 10,
   "metadata": {
    "colab": {},
    "colab_type": "code",
    "id": "NBHXo5HTOCag"
   },
   "outputs": [],
   "source": [
    "val[\"image\"]=val[\"image\"].astype(str)\n",
    "val[\"class\"]=val[\"class\"].astype(str)"
   ]
  },
  {
   "cell_type": "code",
   "execution_count": 11,
   "metadata": {
    "colab": {
     "base_uri": "https://localhost:8080/",
     "height": 424
    },
    "colab_type": "code",
    "id": "6HBZWwDNwXeP",
    "outputId": "3818dab9-81cf-4d22-d3c9-9a9506452549"
   },
   "outputs": [
    {
     "data": {
      "text/html": [
       "<div>\n",
       "<style scoped>\n",
       "    .dataframe tbody tr th:only-of-type {\n",
       "        vertical-align: middle;\n",
       "    }\n",
       "\n",
       "    .dataframe tbody tr th {\n",
       "        vertical-align: top;\n",
       "    }\n",
       "\n",
       "    .dataframe thead th {\n",
       "        text-align: right;\n",
       "    }\n",
       "</style>\n",
       "<table border=\"1\" class=\"dataframe\">\n",
       "  <thead>\n",
       "    <tr style=\"text-align: right;\">\n",
       "      <th></th>\n",
       "      <th>image</th>\n",
       "      <th>class</th>\n",
       "    </tr>\n",
       "  </thead>\n",
       "  <tbody>\n",
       "    <tr>\n",
       "      <th>0</th>\n",
       "      <td>2001</td>\n",
       "      <td>N</td>\n",
       "    </tr>\n",
       "    <tr>\n",
       "      <th>1</th>\n",
       "      <td>2002</td>\n",
       "      <td>X</td>\n",
       "    </tr>\n",
       "    <tr>\n",
       "      <th>2</th>\n",
       "      <td>2003</td>\n",
       "      <td>K</td>\n",
       "    </tr>\n",
       "    <tr>\n",
       "      <th>3</th>\n",
       "      <td>2004</td>\n",
       "      <td>Z</td>\n",
       "    </tr>\n",
       "    <tr>\n",
       "      <th>4</th>\n",
       "      <td>2005</td>\n",
       "      <td>F</td>\n",
       "    </tr>\n",
       "    <tr>\n",
       "      <th>...</th>\n",
       "      <td>...</td>\n",
       "      <td>...</td>\n",
       "    </tr>\n",
       "    <tr>\n",
       "      <th>435</th>\n",
       "      <td>2795</td>\n",
       "      <td>3</td>\n",
       "    </tr>\n",
       "    <tr>\n",
       "      <th>436</th>\n",
       "      <td>2800</td>\n",
       "      <td>P</td>\n",
       "    </tr>\n",
       "    <tr>\n",
       "      <th>437</th>\n",
       "      <td>2801</td>\n",
       "      <td>6</td>\n",
       "    </tr>\n",
       "    <tr>\n",
       "      <th>438</th>\n",
       "      <td>2802</td>\n",
       "      <td>3</td>\n",
       "    </tr>\n",
       "    <tr>\n",
       "      <th>439</th>\n",
       "      <td>2803</td>\n",
       "      <td>3</td>\n",
       "    </tr>\n",
       "  </tbody>\n",
       "</table>\n",
       "<p>440 rows × 2 columns</p>\n",
       "</div>"
      ],
      "text/plain": [
       "    image class\n",
       "0    2001     N\n",
       "1    2002     X\n",
       "2    2003     K\n",
       "3    2004     Z\n",
       "4    2005     F\n",
       "..    ...   ...\n",
       "435  2795     3\n",
       "436  2800     P\n",
       "437  2801     6\n",
       "438  2802     3\n",
       "439  2803     3\n",
       "\n",
       "[440 rows x 2 columns]"
      ]
     },
     "execution_count": 11,
     "metadata": {},
     "output_type": "execute_result"
    }
   ],
   "source": [
    "val"
   ]
  },
  {
   "cell_type": "code",
   "execution_count": 12,
   "metadata": {
    "colab": {
     "base_uri": "https://localhost:8080/",
     "height": 476
    },
    "colab_type": "code",
    "id": "ZRvuW7XtOCc_",
    "outputId": "52c6d2d4-e95e-4f0d-adaa-fa4dfbdf34cc"
   },
   "outputs": [
    {
     "name": "stderr",
     "output_type": "stream",
     "text": [
      "100%|███████████████████████████████████████████████████████████████████████████████| 440/440 [00:03<00:00, 126.86it/s]\n"
     ]
    }
   ],
   "source": [
    "val_image = []\n",
    "for j in tqdm(range(val.shape[0])):\n",
    "    img1 = image.load_img(\"data/test/\"+val[\"image\"][j]+\".jpg\",target_size= (10,15,1),grayscale=True)\n",
    "    img1 = image.img_to_array(img1)\n",
    "    img1 = img1/225\n",
    "    val_image.append(img1)"
   ]
  },
  {
   "cell_type": "code",
   "execution_count": 13,
   "metadata": {
    "colab": {
     "base_uri": "https://localhost:8080/",
     "height": 146
    },
    "colab_type": "code",
    "id": "SfKZaQ6EOCf-",
    "outputId": "fa78fa15-1b71-4d90-da16-0788f2d8a002"
   },
   "outputs": [
    {
     "data": {
      "text/plain": [
       "array([[0., 0., 0., ..., 0., 0., 0.],\n",
       "       [0., 0., 0., ..., 0., 0., 0.],\n",
       "       [0., 0., 0., ..., 1., 0., 0.],\n",
       "       ...,\n",
       "       [0., 0., 0., ..., 0., 0., 0.],\n",
       "       [0., 0., 0., ..., 0., 0., 0.],\n",
       "       [0., 0., 0., ..., 0., 0., 0.]], dtype=float32)"
      ]
     },
     "execution_count": 13,
     "metadata": {},
     "output_type": "execute_result"
    }
   ],
   "source": [
    "x = np.array(train_image)  # Assigning train data \"x\" as a numpy array \n",
    "# y = train[\"class\"].values   # getting the values of the train images from train dataframe)\n",
    "d = le.fit_transform(train[\"class\"])\n",
    "# y = le.fit_transform(y)\n",
    "y = to_categorical(d)   \n",
    "y   # converting the values to categorial"
   ]
  },
  {
   "cell_type": "code",
   "execution_count": 14,
   "metadata": {
    "colab": {
     "base_uri": "https://localhost:8080/",
     "height": 35
    },
    "colab_type": "code",
    "id": "ssdS6PDfOCik",
    "outputId": "d8594ade-2af4-4dd7-e009-6ce70d1ca8c0"
   },
   "outputs": [
    {
     "data": {
      "text/plain": [
       "((1109, 10, 15, 1), (1109, 34))"
      ]
     },
     "execution_count": 14,
     "metadata": {},
     "output_type": "execute_result"
    }
   ],
   "source": [
    "x.shape,y.shape  # checking the shape of the input data for the CNN model"
   ]
  },
  {
   "cell_type": "code",
   "execution_count": 15,
   "metadata": {
    "colab": {},
    "colab_type": "code",
    "id": "LkviNonyOCmY"
   },
   "outputs": [],
   "source": [
    "X = np.array(val_image)   # Assigning val data \"X\" as a numpy array \n",
    "D = le.fit_transform(val[\"class\"])   # getting the values of the validation images from val dataframe\n",
    "Y = to_categorical(D)     # converting the values to categorial"
   ]
  },
  {
   "cell_type": "code",
   "execution_count": 16,
   "metadata": {
    "colab": {
     "base_uri": "https://localhost:8080/",
     "height": 35
    },
    "colab_type": "code",
    "id": "mPgfUT58OCY6",
    "outputId": "a770146d-64d5-429b-f465-72f4bd90f99f"
   },
   "outputs": [
    {
     "data": {
      "text/plain": [
       "((440, 10, 15, 1), (440, 34))"
      ]
     },
     "execution_count": 16,
     "metadata": {},
     "output_type": "execute_result"
    }
   ],
   "source": [
    "X.shape,Y.shape  # checking the shape of the validation data for the CNN model"
   ]
  },
  {
   "cell_type": "code",
   "execution_count": 17,
   "metadata": {
    "colab": {},
    "colab_type": "code",
    "id": "UOAPT-GTORGt"
   },
   "outputs": [],
   "source": [
    "model = Sequential()      # assigning a object instance to variable model\n",
    "model.add(Conv2D(32,kernel_size=(2,2),activation = \"relu\",input_shape = (10,15,1))) # input layer\n",
    "model.add(Conv2D(128,(3,3),activation = \"relu\")) # 1st layer with 128 convolution filters and the 3x3 kernal size and using relu activation function\n",
    "model.add(Conv2D(64,(3,3),activation = \"relu\"))  # 2nd layer with 64 convolution filters and the 3x3 kernal size and using relu activation function\n",
    "# model.add(Conv2D(128,(3,3),activation = \"relu\")) # 3rd layer with 128 convolution filters and the 3x3 kernal size and using relu activation function\n",
    "# model.add(MaxPooling2D(pool_size = (3,3),strides=2))\n",
    "model.add(Conv2D(64,(3,3),activation = \"relu\"))  # 2nd layer with 64 convolution filters and the 3x3 kernal size and using relu activation function\n",
    "model.add(Conv2D(128,(3,3),activation = \"relu\"))# using max pooling with 2x2 kernal size\n",
    "# model.add(MaxPooling2D(pool_size = (3,3),strides=2))\n",
    "model.add(Dropout(0.35))                   # using Dropout function to decrease bias(drop neurons which dont have information)\n",
    "model.add(Flatten())                       # after convolution layer making it as flatten (all the pixcels values are in one column while inputing into neural network)\n",
    "model.add(Dense(256,activation =\"relu\"))   # 1st  dense layer with 256 nerouns and activation function as relu \n",
    "# model.add(Dense(256,activation =\"relu\"))   # 2nd  dense layer with 256 nerouns and activation function as relu \n",
    "# model.add(Dense(64,activation =\"relu\"))    # 3rd  dense layer with 256 nerouns and activation function as relu \n",
    "model.add(Dropout(0.45))                   # using Dropout function to decrease bias\n",
    "# model.add(Dense(64,activation =\"relu\"))   # 4th  dense layer with 256 nerouns and activation function as relu \n",
    "model.add(Dense(34,activation =\"softmax\")) # output layer with 10 nerouns and activation function softmax"
   ]
  },
  {
   "cell_type": "code",
   "execution_count": 18,
   "metadata": {
    "colab": {
     "base_uri": "https://localhost:8080/",
     "height": 110
    },
    "colab_type": "code",
    "id": "kWyLezdNORJb",
    "outputId": "9f4efa9e-5798-4261-c5e2-6aad0b9512cc"
   },
   "outputs": [],
   "source": [
    "model.compile(loss = \"categorical_crossentropy\",optimizer = \"adam\",metrics = [\"accuracy\"])"
   ]
  },
  {
   "cell_type": "code",
   "execution_count": 19,
   "metadata": {
    "colab": {
     "base_uri": "https://localhost:8080/",
     "height": 1000
    },
    "colab_type": "code",
    "id": "bORn4nqJOROH",
    "outputId": "1e7c407f-c1ce-4521-ee99-4360b83ec9c3",
    "scrolled": true
   },
   "outputs": [
    {
     "name": "stdout",
     "output_type": "stream",
     "text": [
      "Epoch 1/30\n",
      "35/35 [==============================] - 4s 45ms/step - loss: 2.7065 - accuracy: 0.2741 - val_loss: 1.0586 - val_accuracy: 0.7500\n",
      "Epoch 2/30\n",
      "35/35 [==============================] - 1s 33ms/step - loss: 0.9057 - accuracy: 0.7610 - val_loss: 0.3047 - val_accuracy: 0.9341\n",
      "Epoch 3/30\n",
      "35/35 [==============================] - 1s 34ms/step - loss: 0.4814 - accuracy: 0.8729 - val_loss: 0.2444 - val_accuracy: 0.9591\n",
      "Epoch 4/30\n",
      "35/35 [==============================] - 1s 35ms/step - loss: 0.3076 - accuracy: 0.9270 - val_loss: 0.1959 - val_accuracy: 0.9773\n",
      "Epoch 5/30\n",
      "35/35 [==============================] - 1s 33ms/step - loss: 0.2641 - accuracy: 0.9441 - val_loss: 0.1741 - val_accuracy: 0.9886\n",
      "Epoch 6/30\n",
      "35/35 [==============================] - 1s 33ms/step - loss: 0.1760 - accuracy: 0.9639 - val_loss: 0.1719 - val_accuracy: 0.9886\n",
      "Epoch 7/30\n",
      "35/35 [==============================] - 1s 33ms/step - loss: 0.1537 - accuracy: 0.9766 - val_loss: 0.1518 - val_accuracy: 0.9864\n",
      "Epoch 8/30\n",
      "35/35 [==============================] - 1s 34ms/step - loss: 0.1232 - accuracy: 0.9811 - val_loss: 0.1589 - val_accuracy: 0.9886\n",
      "Epoch 9/30\n",
      "35/35 [==============================] - 1s 36ms/step - loss: 0.1396 - accuracy: 0.9757 - val_loss: 0.1809 - val_accuracy: 0.9886\n",
      "Epoch 10/30\n",
      "35/35 [==============================] - 1s 35ms/step - loss: 0.1139 - accuracy: 0.9802 - val_loss: 0.1986 - val_accuracy: 0.9864\n",
      "Epoch 11/30\n",
      "35/35 [==============================] - 1s 36ms/step - loss: 0.1069 - accuracy: 0.9847 - val_loss: 0.1803 - val_accuracy: 0.9864\n",
      "Epoch 12/30\n",
      "35/35 [==============================] - 1s 33ms/step - loss: 0.0963 - accuracy: 0.9802 - val_loss: 0.1704 - val_accuracy: 0.9864\n",
      "Epoch 13/30\n",
      "35/35 [==============================] - 1s 34ms/step - loss: 0.0901 - accuracy: 0.9856 - val_loss: 0.1845 - val_accuracy: 0.9886\n",
      "Epoch 14/30\n",
      "35/35 [==============================] - 1s 32ms/step - loss: 0.0888 - accuracy: 0.9829 - val_loss: 0.1712 - val_accuracy: 0.9864\n",
      "Epoch 15/30\n",
      "35/35 [==============================] - 1s 33ms/step - loss: 0.0862 - accuracy: 0.9874 - val_loss: 0.1659 - val_accuracy: 0.9818\n",
      "Epoch 16/30\n",
      "35/35 [==============================] - 1s 34ms/step - loss: 0.0833 - accuracy: 0.9883 - val_loss: 0.1875 - val_accuracy: 0.9818\n",
      "Epoch 17/30\n",
      "35/35 [==============================] - 1s 34ms/step - loss: 0.0859 - accuracy: 0.9865 - val_loss: 0.1704 - val_accuracy: 0.9841\n",
      "Epoch 18/30\n",
      "35/35 [==============================] - 1s 34ms/step - loss: 0.0747 - accuracy: 0.9865 - val_loss: 0.1965 - val_accuracy: 0.9818\n",
      "Epoch 19/30\n",
      "35/35 [==============================] - 1s 36ms/step - loss: 0.0688 - accuracy: 0.9856 - val_loss: 0.2058 - val_accuracy: 0.9864\n",
      "Epoch 20/30\n",
      "35/35 [==============================] - 1s 35ms/step - loss: 0.0743 - accuracy: 0.9865 - val_loss: 0.1950 - val_accuracy: 0.9795\n",
      "Epoch 21/30\n",
      "35/35 [==============================] - 1s 33ms/step - loss: 0.0747 - accuracy: 0.9892 - val_loss: 0.1846 - val_accuracy: 0.9864\n",
      "Epoch 22/30\n",
      "35/35 [==============================] - 1s 33ms/step - loss: 0.0647 - accuracy: 0.9883 - val_loss: 0.2367 - val_accuracy: 0.9818\n",
      "Epoch 23/30\n",
      "35/35 [==============================] - 1s 33ms/step - loss: 0.0680 - accuracy: 0.9883 - val_loss: 0.2290 - val_accuracy: 0.9841\n",
      "Epoch 24/30\n",
      "35/35 [==============================] - 1s 37ms/step - loss: 0.0694 - accuracy: 0.9874 - val_loss: 0.1971 - val_accuracy: 0.9841\n",
      "Epoch 25/30\n",
      "35/35 [==============================] - 1s 34ms/step - loss: 0.0717 - accuracy: 0.9874 - val_loss: 0.2063 - val_accuracy: 0.9818\n",
      "Epoch 26/30\n",
      "35/35 [==============================] - 1s 35ms/step - loss: 0.0583 - accuracy: 0.9883 - val_loss: 0.2003 - val_accuracy: 0.9841\n",
      "Epoch 27/30\n",
      "35/35 [==============================] - 1s 34ms/step - loss: 0.0618 - accuracy: 0.9856 - val_loss: 0.1679 - val_accuracy: 0.9841\n",
      "Epoch 28/30\n",
      "35/35 [==============================] - 1s 34ms/step - loss: 0.0643 - accuracy: 0.9892 - val_loss: 0.1923 - val_accuracy: 0.9864\n",
      "Epoch 29/30\n",
      "35/35 [==============================] - 1s 35ms/step - loss: 0.0672 - accuracy: 0.9883 - val_loss: 0.1986 - val_accuracy: 0.9841\n",
      "Epoch 30/30\n",
      "35/35 [==============================] - 1s 41ms/step - loss: 0.0542 - accuracy: 0.9892 - val_loss: 0.2055 - val_accuracy: 0.9864\n"
     ]
    },
    {
     "data": {
      "text/plain": [
       "<keras.callbacks.History at 0x2750528a400>"
      ]
     },
     "execution_count": 19,
     "metadata": {},
     "output_type": "execute_result"
    }
   ],
   "source": [
    "model.fit(x,y,epochs=30,validation_data=(X,Y))"
   ]
  },
  {
   "cell_type": "code",
   "execution_count": 0,
   "metadata": {
    "colab": {},
    "colab_type": "code",
    "id": "L3B9kbbP_qlF"
   },
   "outputs": [],
   "source": []
  },
  {
   "cell_type": "code",
   "execution_count": 21,
   "metadata": {
    "colab": {
     "base_uri": "https://localhost:8080/",
     "height": 35
    },
    "colab_type": "code",
    "id": "SEWNRdAK_sgC",
    "outputId": "71f26055-67e0-4f90-a632-cf2e32c9bfe5"
   },
   "outputs": [
    {
     "name": "stdout",
     "output_type": "stream",
     "text": [
      "Saved model to disk\n"
     ]
    }
   ],
   "source": [
    "# serialize weights to HDF5\n",
    "model.save_weights(\"data/Model/model_weight_25_06_2021.h5\") #save weights for prediction\n",
    "print(\"Saved model to disk\")\n",
    "# serialize model to HDF5 which is format to easily store weights\n",
    "model.save(\"data/Model/model2_10_15_25_06_2021.h5\")"
   ]
  },
  {
   "cell_type": "code",
   "execution_count": 22,
   "metadata": {
    "colab": {},
    "colab_type": "code",
    "id": "edqtaOJoORSu"
   },
   "outputs": [],
   "source": [
    "test = pd.read_excel(\"data/testing.xlsx\")"
   ]
  },
  {
   "cell_type": "code",
   "execution_count": 23,
   "metadata": {
    "colab": {},
    "colab_type": "code",
    "id": "QnC68Z51ORMV"
   },
   "outputs": [],
   "source": [
    "test[\"image\"] = test[\"image\"].astype(str)\n",
    "test[\"class\"] = test[\"class\"].astype(str)"
   ]
  },
  {
   "cell_type": "code",
   "execution_count": 24,
   "metadata": {
    "colab": {
     "base_uri": "https://localhost:8080/",
     "height": 424
    },
    "colab_type": "code",
    "id": "uqhMFzX9OnUt",
    "outputId": "d4960d22-afdf-45ef-bd4a-813d066febcf"
   },
   "outputs": [
    {
     "data": {
      "text/html": [
       "<div>\n",
       "<style scoped>\n",
       "    .dataframe tbody tr th:only-of-type {\n",
       "        vertical-align: middle;\n",
       "    }\n",
       "\n",
       "    .dataframe tbody tr th {\n",
       "        vertical-align: top;\n",
       "    }\n",
       "\n",
       "    .dataframe thead th {\n",
       "        text-align: right;\n",
       "    }\n",
       "</style>\n",
       "<table border=\"1\" class=\"dataframe\">\n",
       "  <thead>\n",
       "    <tr style=\"text-align: right;\">\n",
       "      <th></th>\n",
       "      <th>image</th>\n",
       "      <th>class</th>\n",
       "    </tr>\n",
       "  </thead>\n",
       "  <tbody>\n",
       "    <tr>\n",
       "      <th>0</th>\n",
       "      <td>9632</td>\n",
       "      <td>Z</td>\n",
       "    </tr>\n",
       "    <tr>\n",
       "      <th>1</th>\n",
       "      <td>9633</td>\n",
       "      <td>3</td>\n",
       "    </tr>\n",
       "    <tr>\n",
       "      <th>2</th>\n",
       "      <td>9634</td>\n",
       "      <td>3</td>\n",
       "    </tr>\n",
       "    <tr>\n",
       "      <th>3</th>\n",
       "      <td>9635</td>\n",
       "      <td>5</td>\n",
       "    </tr>\n",
       "    <tr>\n",
       "      <th>4</th>\n",
       "      <td>9640</td>\n",
       "      <td>8</td>\n",
       "    </tr>\n",
       "    <tr>\n",
       "      <th>...</th>\n",
       "      <td>...</td>\n",
       "      <td>...</td>\n",
       "    </tr>\n",
       "    <tr>\n",
       "      <th>193</th>\n",
       "      <td>9991</td>\n",
       "      <td>R</td>\n",
       "    </tr>\n",
       "    <tr>\n",
       "      <th>194</th>\n",
       "      <td>9992</td>\n",
       "      <td>6</td>\n",
       "    </tr>\n",
       "    <tr>\n",
       "      <th>195</th>\n",
       "      <td>9993</td>\n",
       "      <td>U</td>\n",
       "    </tr>\n",
       "    <tr>\n",
       "      <th>196</th>\n",
       "      <td>9994</td>\n",
       "      <td>H</td>\n",
       "    </tr>\n",
       "    <tr>\n",
       "      <th>197</th>\n",
       "      <td>9995</td>\n",
       "      <td>7</td>\n",
       "    </tr>\n",
       "  </tbody>\n",
       "</table>\n",
       "<p>198 rows × 2 columns</p>\n",
       "</div>"
      ],
      "text/plain": [
       "    image class\n",
       "0    9632     Z\n",
       "1    9633     3\n",
       "2    9634     3\n",
       "3    9635     5\n",
       "4    9640     8\n",
       "..    ...   ...\n",
       "193  9991     R\n",
       "194  9992     6\n",
       "195  9993     U\n",
       "196  9994     H\n",
       "197  9995     7\n",
       "\n",
       "[198 rows x 2 columns]"
      ]
     },
     "execution_count": 24,
     "metadata": {},
     "output_type": "execute_result"
    }
   ],
   "source": [
    "test"
   ]
  },
  {
   "cell_type": "code",
   "execution_count": 25,
   "metadata": {
    "colab": {
     "base_uri": "https://localhost:8080/",
     "height": 256
    },
    "colab_type": "code",
    "id": "It6hj6cUOnXA",
    "outputId": "a72ba297-eee0-4f07-f6a7-8f0bf6ace7dd"
   },
   "outputs": [
    {
     "name": "stderr",
     "output_type": "stream",
     "text": [
      "100%|███████████████████████████████████████████████████████████████████████████████| 198/198 [00:01<00:00, 126.60it/s]\n"
     ]
    }
   ],
   "source": [
    "test_image = []\n",
    "for p in tqdm(range(test.shape[0])):\n",
    "    img2 = image.load_img('data/New folder/'+test['image'][p]+'.jpg', target_size=(10,15,1),grayscale=True)\n",
    "    img2 = image.img_to_array(img2)\n",
    "    img2 = img2/255\n",
    "    test_image.append(img2)\n",
    "test1 = np.array(test_image)"
   ]
  },
  {
   "cell_type": "code",
   "execution_count": 26,
   "metadata": {},
   "outputs": [
    {
     "data": {
      "text/plain": [
       "(198, 10, 15, 1)"
      ]
     },
     "execution_count": 26,
     "metadata": {},
     "output_type": "execute_result"
    }
   ],
   "source": [
    "test1.shape"
   ]
  },
  {
   "cell_type": "code",
   "execution_count": 31,
   "metadata": {
    "colab": {},
    "colab_type": "code",
    "id": "1BkMWIu1OnaA"
   },
   "outputs": [
    {
     "name": "stdout",
     "output_type": "stream",
     "text": [
      "7/7 [==============================] - 0s 8ms/step\n"
     ]
    }
   ],
   "source": [
    "#Predicting the values of all images and store it in pre from test1\n",
    "predict = model.predict(test1)\n",
    "pre=np.argmax(predict,axis=1)\n",
    "# pre = le.inverse_transform(classes)"
   ]
  },
  {
   "cell_type": "code",
   "execution_count": 32,
   "metadata": {
    "colab": {},
    "colab_type": "code",
    "id": "rFnLqtyPg1wi"
   },
   "outputs": [
    {
     "data": {
      "text/plain": [
       "array([33,  3,  3,  5,  8, 28,  2,  7, 18, 20,  0,  0,  6, 28,  1,  7, 11,\n",
       "        9, 28,  3,  3, 27,  0, 10,  4, 18, 20, 13, 23,  5, 28, 14,  1, 24,\n",
       "       11, 13,  2,  5,  1, 15,  5, 20,  6,  2, 29, 14,  1,  8,  6,  9, 10,\n",
       "       28, 20, 11,  4,  4,  2,  3,  9,  4, 17,  2,  0,  1,  8,  9,  9,  8,\n",
       "        5, 27, 28,  4,  5,  7,  1, 20,  0, 25, 21,  3, 18,  0,  0, 21, 33,\n",
       "        3, 18,  0, 23,  4,  7,  7, 20,  4, 31, 33,  2,  6, 14, 32,  3,  1,\n",
       "        8, 30, 31,  3, 12,  1, 25,  4, 15, 33, 16,  2,  3, 10,  8, 15,  7,\n",
       "       20, 27, 30,  4, 17, 17, 12, 24,  8,  8, 17,  7, 20, 10, 16,  2,  2,\n",
       "       10,  1,  4, 31, 26,  2,  5,  1,  4,  4,  4, 29,  3,  5,  8, 25, 10,\n",
       "       29,  6, 31,  7,  7,  0,  0,  0, 23, 22,  3, 24, 28, 16, 32, 26,  7,\n",
       "       23, 23, 10, 24, 16,  7,  8, 10, 15, 14, 18, 12,  0,  0, 10,  2,  5,\n",
       "        1,  9, 10, 33, 17, 24, 25,  6, 28, 17,  7], dtype=int64)"
      ]
     },
     "execution_count": 32,
     "metadata": {},
     "output_type": "execute_result"
    }
   ],
   "source": [
    "pre"
   ]
  },
  {
   "cell_type": "code",
   "execution_count": 33,
   "metadata": {
    "colab": {
     "base_uri": "https://localhost:8080/",
     "height": 237
    },
    "colab_type": "code",
    "id": "uzYhKf9_E9L-",
    "outputId": "a16504e8-48e9-4eca-e536-d6c86f38c9bd"
   },
   "outputs": [
    {
     "data": {
      "text/plain": [
       "array([33,  3,  3,  5,  8, 28,  2,  7, 18, 20,  0,  0,  6, 28,  1,  7, 11,\n",
       "        9, 28,  3,  3, 27,  0, 10,  4, 18, 20, 13, 23,  5, 28, 14,  1, 24,\n",
       "       11, 13,  2,  5,  1, 15,  5, 20,  6,  2, 29, 14,  1,  8,  6,  9, 10,\n",
       "       28, 20, 11,  4,  4,  2,  3,  9,  4, 17,  2,  0,  1,  8,  9,  9,  8,\n",
       "        5, 27, 28,  4,  5,  7,  1, 20,  0, 25, 21,  3, 18,  0,  0, 21, 33,\n",
       "        3, 18,  0, 23,  4,  7,  7, 20,  4, 31, 33,  2,  6, 14, 32,  3,  1,\n",
       "        8, 30, 31,  3, 12,  1, 25,  4, 15, 33, 16,  2,  3, 10,  8, 15,  7,\n",
       "       20, 27, 30,  4, 17, 17, 12, 24,  8,  8, 17,  7, 20, 10, 16,  2,  2,\n",
       "       10,  1,  4, 31, 26,  2,  5,  1,  4,  4,  4, 29,  3,  5,  8, 25, 10,\n",
       "       29,  6, 31,  7,  7,  0,  0,  0, 23, 22,  3, 24, 28, 16, 32, 26,  7,\n",
       "       23, 23, 10, 24, 16,  7,  8, 10, 15, 14, 18, 12,  0,  0, 10,  2,  5,\n",
       "        1,  9, 10, 33, 17, 24, 25,  6, 28, 17,  7], dtype=int64)"
      ]
     },
     "execution_count": 33,
     "metadata": {},
     "output_type": "execute_result"
    }
   ],
   "source": [
    "pre"
   ]
  },
  {
   "cell_type": "code",
   "execution_count": 34,
   "metadata": {
    "colab": {},
    "colab_type": "code",
    "id": "ewP_yoO5Ondy"
   },
   "outputs": [],
   "source": [
    "from sklearn.metrics import accuracy_score,confusion_matrix,average_precision_score  # to check the accuracy "
   ]
  },
  {
   "cell_type": "code",
   "execution_count": 35,
   "metadata": {
    "colab": {},
    "colab_type": "code",
    "id": "ic5Kjs0RhNhc"
   },
   "outputs": [],
   "source": [
    "test[\"pre\"] = le.inverse_transform(pre) # we are decoding the images encoded in the beginning\n",
    "test[\"class\"] = test[\"class\"].astype(str)"
   ]
  },
  {
   "cell_type": "code",
   "execution_count": 36,
   "metadata": {
    "colab": {
     "base_uri": "https://localhost:8080/",
     "height": 424
    },
    "colab_type": "code",
    "id": "BUBHTi-Ij0mv",
    "outputId": "7da73714-4ddd-4703-933c-2ba2e7052710"
   },
   "outputs": [
    {
     "data": {
      "text/html": [
       "<div>\n",
       "<style scoped>\n",
       "    .dataframe tbody tr th:only-of-type {\n",
       "        vertical-align: middle;\n",
       "    }\n",
       "\n",
       "    .dataframe tbody tr th {\n",
       "        vertical-align: top;\n",
       "    }\n",
       "\n",
       "    .dataframe thead th {\n",
       "        text-align: right;\n",
       "    }\n",
       "</style>\n",
       "<table border=\"1\" class=\"dataframe\">\n",
       "  <thead>\n",
       "    <tr style=\"text-align: right;\">\n",
       "      <th></th>\n",
       "      <th>image</th>\n",
       "      <th>class</th>\n",
       "      <th>pre</th>\n",
       "    </tr>\n",
       "  </thead>\n",
       "  <tbody>\n",
       "    <tr>\n",
       "      <th>0</th>\n",
       "      <td>9632</td>\n",
       "      <td>Z</td>\n",
       "      <td>Z</td>\n",
       "    </tr>\n",
       "    <tr>\n",
       "      <th>1</th>\n",
       "      <td>9633</td>\n",
       "      <td>3</td>\n",
       "      <td>3</td>\n",
       "    </tr>\n",
       "    <tr>\n",
       "      <th>2</th>\n",
       "      <td>9634</td>\n",
       "      <td>3</td>\n",
       "      <td>3</td>\n",
       "    </tr>\n",
       "    <tr>\n",
       "      <th>3</th>\n",
       "      <td>9635</td>\n",
       "      <td>5</td>\n",
       "      <td>5</td>\n",
       "    </tr>\n",
       "    <tr>\n",
       "      <th>4</th>\n",
       "      <td>9640</td>\n",
       "      <td>8</td>\n",
       "      <td>8</td>\n",
       "    </tr>\n",
       "    <tr>\n",
       "      <th>...</th>\n",
       "      <td>...</td>\n",
       "      <td>...</td>\n",
       "      <td>...</td>\n",
       "    </tr>\n",
       "    <tr>\n",
       "      <th>193</th>\n",
       "      <td>9991</td>\n",
       "      <td>R</td>\n",
       "      <td>R</td>\n",
       "    </tr>\n",
       "    <tr>\n",
       "      <th>194</th>\n",
       "      <td>9992</td>\n",
       "      <td>6</td>\n",
       "      <td>6</td>\n",
       "    </tr>\n",
       "    <tr>\n",
       "      <th>195</th>\n",
       "      <td>9993</td>\n",
       "      <td>U</td>\n",
       "      <td>U</td>\n",
       "    </tr>\n",
       "    <tr>\n",
       "      <th>196</th>\n",
       "      <td>9994</td>\n",
       "      <td>H</td>\n",
       "      <td>H</td>\n",
       "    </tr>\n",
       "    <tr>\n",
       "      <th>197</th>\n",
       "      <td>9995</td>\n",
       "      <td>7</td>\n",
       "      <td>7</td>\n",
       "    </tr>\n",
       "  </tbody>\n",
       "</table>\n",
       "<p>198 rows × 3 columns</p>\n",
       "</div>"
      ],
      "text/plain": [
       "    image class pre\n",
       "0    9632     Z   Z\n",
       "1    9633     3   3\n",
       "2    9634     3   3\n",
       "3    9635     5   5\n",
       "4    9640     8   8\n",
       "..    ...   ...  ..\n",
       "193  9991     R   R\n",
       "194  9992     6   6\n",
       "195  9993     U   U\n",
       "196  9994     H   H\n",
       "197  9995     7   7\n",
       "\n",
       "[198 rows x 3 columns]"
      ]
     },
     "execution_count": 36,
     "metadata": {},
     "output_type": "execute_result"
    }
   ],
   "source": [
    "test"
   ]
  },
  {
   "cell_type": "code",
   "execution_count": 37,
   "metadata": {
    "colab": {},
    "colab_type": "code",
    "id": "-8t9zMWYOnSy"
   },
   "outputs": [],
   "source": [
    "actual = np.array(test[\"class\"]) # assigning actual values \n",
    "p = np.array(test[\"pre\"])        # assigning predicted values"
   ]
  },
  {
   "cell_type": "code",
   "execution_count": 38,
   "metadata": {
    "colab": {
     "base_uri": "https://localhost:8080/",
     "height": 605
    },
    "colab_type": "code",
    "id": "St8inyiViV2c",
    "outputId": "5bdd1e8d-a8ac-4e04-9d14-80f4917bfd13"
   },
   "outputs": [
    {
     "data": {
      "text/plain": [
       "(array(['Z', '3', '3', '5', '8', 'U', '2', '7', 'J', 'L', '0', '0', '6',\n",
       "        'U', '1', '7', 'B', '9', 'U', '3', '3', 'T', '0', 'A', '4', 'J',\n",
       "        'L', 'D', 'P', '5', 'U', 'E', '1', 'Q', 'B', 'D', '2', '5', '1',\n",
       "        'F', '5', 'L', '6', '2', 'V', 'E', '1', '8', '6', '9', 'A', 'U',\n",
       "        'L', 'B', '4', '4', '2', '3', '9', '4', 'H', '2', '0', '1', '8',\n",
       "        '9', '9', '8', '5', 'T', 'U', '4', '5', '7', '1', 'L', '0', 'R',\n",
       "        'M', '3', 'J', '0', '0', 'M', 'Z', '3', 'J', '0', 'P', '4', '7',\n",
       "        '7', 'L', '4', 'X', 'Z', '2', '6', 'E', 'Y', '3', '1', '8', 'W',\n",
       "        'X', '3', 'C', '1', 'R', '4', 'F', 'Z', 'G', '2', '3', 'A', '8',\n",
       "        'F', '7', 'L', 'T', 'W', '4', 'H', 'H', 'C', 'Q', '8', '8', 'H',\n",
       "        '7', 'L', 'A', 'G', '2', '2', 'A', '1', '4', 'X', 'S', '2', '5',\n",
       "        '1', '4', '4', '4', 'V', '3', '5', '8', 'R', 'A', 'V', '6', 'X',\n",
       "        '7', '7', '0', '0', '0', 'P', 'N', '3', 'Q', 'U', 'G', 'Y', 'S',\n",
       "        '7', 'P', 'P', 'A', 'Q', 'G', '7', '8', 'A', 'F', 'E', 'J', 'C',\n",
       "        '0', '0', 'A', '2', '5', '1', '9', 'A', 'Z', 'H', 'Q', 'R', '6',\n",
       "        'U', 'H', '7'], dtype=object),\n",
       " array(['Z', '3', '3', '5', '8', 'U', '2', '7', 'J', 'L', '0', '0', '6',\n",
       "        'U', '1', '7', 'B', '9', 'U', '3', '3', 'T', '0', 'A', '4', 'J',\n",
       "        'L', 'D', 'P', '5', 'U', 'E', '1', 'Q', 'B', 'D', '2', '5', '1',\n",
       "        'F', '5', 'L', '6', '2', 'V', 'E', '1', '8', '6', '9', 'A', 'U',\n",
       "        'L', 'B', '4', '4', '2', '3', '9', '4', 'H', '2', '0', '1', '8',\n",
       "        '9', '9', '8', '5', 'T', 'U', '4', '5', '7', '1', 'L', '0', 'R',\n",
       "        'M', '3', 'J', '0', '0', 'M', 'Z', '3', 'J', '0', 'P', '4', '7',\n",
       "        '7', 'L', '4', 'X', 'Z', '2', '6', 'E', 'Y', '3', '1', '8', 'W',\n",
       "        'X', '3', 'C', '1', 'R', '4', 'F', 'Z', 'G', '2', '3', 'A', '8',\n",
       "        'F', '7', 'L', 'T', 'W', '4', 'H', 'H', 'C', 'Q', '8', '8', 'H',\n",
       "        '7', 'L', 'A', 'G', '2', '2', 'A', '1', '4', 'X', 'S', '2', '5',\n",
       "        '1', '4', '4', '4', 'V', '3', '5', '8', 'R', 'A', 'V', '6', 'X',\n",
       "        '7', '7', '0', '0', '0', 'P', 'N', '3', 'Q', 'U', 'G', 'Y', 'S',\n",
       "        '7', 'P', 'P', 'A', 'Q', 'G', '7', '8', 'A', 'F', 'E', 'J', 'C',\n",
       "        '0', '0', 'A', '2', '5', '1', '9', 'A', 'Z', 'H', 'Q', 'R', '6',\n",
       "        'U', 'H', '7'], dtype=object))"
      ]
     },
     "execution_count": 38,
     "metadata": {},
     "output_type": "execute_result"
    }
   ],
   "source": [
    "p,actual"
   ]
  },
  {
   "cell_type": "code",
   "execution_count": 39,
   "metadata": {
    "colab": {
     "base_uri": "https://localhost:8080/",
     "height": 146
    },
    "colab_type": "code",
    "id": "7OGOO-teEiBq",
    "outputId": "14bd7bb5-4268-46e6-9c43-4b19e5a6abb5"
   },
   "outputs": [
    {
     "data": {
      "text/plain": [
       "array([[13,  0,  0, ...,  0,  0,  0],\n",
       "       [ 0, 11,  0, ...,  0,  0,  0],\n",
       "       [ 0,  0, 11, ...,  0,  0,  0],\n",
       "       ...,\n",
       "       [ 0,  0,  0, ...,  4,  0,  0],\n",
       "       [ 0,  0,  0, ...,  0,  2,  0],\n",
       "       [ 0,  0,  0, ...,  0,  0,  5]], dtype=int64)"
      ]
     },
     "execution_count": 39,
     "metadata": {},
     "output_type": "execute_result"
    }
   ],
   "source": [
    "results = confusion_matrix(actual, p)\n",
    "results"
   ]
  },
  {
   "cell_type": "code",
   "execution_count": 40,
   "metadata": {
    "colab": {
     "base_uri": "https://localhost:8080/",
     "height": 35
    },
    "colab_type": "code",
    "id": "KMEGG8Q9EiGK",
    "outputId": "96f5066c-da94-4592-f89c-4b3c8f8ff161"
   },
   "outputs": [
    {
     "name": "stdout",
     "output_type": "stream",
     "text": [
      "Average precision-recall score: 1.00\n"
     ]
    }
   ],
   "source": [
    "acc = accuracy_score(actual,p)\n",
    "print('Average precision-recall score: {0:0.2f}'.format(acc))"
   ]
  },
  {
   "cell_type": "code",
   "execution_count": 0,
   "metadata": {
    "colab": {},
    "colab_type": "code",
    "id": "L3bFx2JTEh-h"
   },
   "outputs": [],
   "source": []
  },
  {
   "cell_type": "code",
   "execution_count": 0,
   "metadata": {
    "colab": {},
    "colab_type": "code",
    "id": "l1PG7_JrEhxK"
   },
   "outputs": [],
   "source": []
  }
 ],
 "metadata": {
  "accelerator": "GPU",
  "colab": {
   "name": "ML.ipynb",
   "provenance": [],
   "toc_visible": true
  },
  "kernelspec": {
   "display_name": "Python 3",
   "language": "python",
   "name": "python3"
  },
  "language_info": {
   "codemirror_mode": {
    "name": "ipython",
    "version": 3
   },
   "file_extension": ".py",
   "mimetype": "text/x-python",
   "name": "python",
   "nbconvert_exporter": "python",
   "pygments_lexer": "ipython3",
   "version": "3.8.5"
  }
 },
 "nbformat": 4,
 "nbformat_minor": 1
}
